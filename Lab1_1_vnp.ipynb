{
  "nbformat": 4,
  "nbformat_minor": 0,
  "metadata": {
    "colab": {
      "provenance": [],
      "include_colab_link": true
    },
    "kernelspec": {
      "name": "python3",
      "display_name": "Python 3"
    },
    "language_info": {
      "name": "python"
    }
  },
  "cells": [
    {
      "cell_type": "markdown",
      "metadata": {
        "id": "view-in-github",
        "colab_type": "text"
      },
      "source": [
        "<a href=\"https://colab.research.google.com/github/sandrazivanovska/sandrazivanovska.github.io/blob/main/Lab1_1_vnp.ipynb\" target=\"_parent\"><img src=\"https://colab.research.google.com/assets/colab-badge.svg\" alt=\"Open In Colab\"/></a>"
      ]
    },
    {
      "cell_type": "markdown",
      "source": [
        "# Lab Exercise 1. Scraping Static Websites\n"
      ],
      "metadata": {
        "id": "skreU4ZawqQ_"
      }
    },
    {
      "cell_type": "markdown",
      "source": [
        "This is the warmup task for the first laboratory exercise. It consists of scraping static Websites with BeautifulSoap.\n",
        "\n",
        " It should be completed at home and presented at the laboratory."
      ],
      "metadata": {
        "id": "VzAWoqz5wwT9"
      }
    },
    {
      "cell_type": "markdown",
      "source": [
        "**Total points: 2**"
      ],
      "metadata": {
        "id": "qpdvbrsow5EE"
      }
    },
    {
      "cell_type": "markdown",
      "source": [
        "### Task Description"
      ],
      "metadata": {
        "id": "6eDmGLrXx0t8"
      }
    },
    {
      "cell_type": "markdown",
      "source": [
        "Scrape the information about the products on the following page:\n",
        "https://clevershop.mk/product-category/mobilni-laptopi-i-tableti/"
      ],
      "metadata": {
        "id": "RG42MHsDxAP_"
      }
    },
    {
      "cell_type": "markdown",
      "source": [
        "For each product scrape:\n",
        "\n",
        "\n",
        "*   Product title (selector `'.wd-entities-title'`)\n",
        "*   Product regular price (selector `'.woocommerce-Price-amount'`)\n",
        "*   Product discount price (if available), same selector as regular price\n",
        "*   URL to the product page\n",
        "*   Add to cart button URL\n",
        "\n",
        "***Help: There are multiple product pages, for each page you need to send a separate request***\n"
      ],
      "metadata": {
        "id": "uoTcMRl4xP3G"
      }
    },
    {
      "cell_type": "markdown",
      "source": [
        "Save the results as a DataFrame object"
      ],
      "metadata": {
        "id": "tc0QvUR8xxwt"
      }
    },
    {
      "cell_type": "markdown",
      "source": [
        "You can add as many code cells as you need."
      ],
      "metadata": {
        "id": "peGjiUZLzbZt"
      }
    },
    {
      "cell_type": "markdown",
      "source": [
        "________________________________________________________________"
      ],
      "metadata": {
        "id": "b7U-kwKSzUIV"
      }
    },
    {
      "cell_type": "markdown",
      "source": [
        "### Requirements"
      ],
      "metadata": {
        "id": "yn5gyMzNx5Vk"
      }
    },
    {
      "cell_type": "markdown",
      "source": [
        "Import libraries and modules that you are going to use"
      ],
      "metadata": {
        "id": "WZ3ifNLhx7tk"
      }
    },
    {
      "cell_type": "code",
      "source": [
        "import pandas as pd\n",
        "import requests\n",
        "from bs4 import BeautifulSoup"
      ],
      "metadata": {
        "id": "GQ3zSO8WyJC_"
      },
      "execution_count": 1,
      "outputs": []
    },
    {
      "cell_type": "markdown",
      "source": [
        "### Send HTTP request to the target Website"
      ],
      "metadata": {
        "id": "fsR71mugyJP7"
      }
    },
    {
      "cell_type": "code",
      "source": [
        "url = 'https://clevershop.mk/product-category/mobilni-laptopi-i-tableti/'\n",
        "response = requests.get(url)"
      ],
      "metadata": {
        "id": "61ImGen2yQff"
      },
      "execution_count": 2,
      "outputs": []
    },
    {
      "cell_type": "markdown",
      "source": [
        "check the response status code"
      ],
      "metadata": {
        "id": "lFnRsSVJyXit"
      }
    },
    {
      "cell_type": "code",
      "source": [
        "status_code = response.status_code\n",
        "status_code"
      ],
      "metadata": {
        "id": "xy6xJ3RGyXUN",
        "colab": {
          "base_uri": "https://localhost:8080/"
        },
        "outputId": "05b26603-e4ac-4b83-9611-77356aa52258"
      },
      "execution_count": 4,
      "outputs": [
        {
          "output_type": "execute_result",
          "data": {
            "text/plain": [
              "200"
            ]
          },
          "metadata": {},
          "execution_count": 4
        }
      ]
    },
    {
      "cell_type": "markdown",
      "source": [
        "### Parse the response content with BeautifulSoap"
      ],
      "metadata": {
        "id": "-MykzAV4yQ4j"
      }
    },
    {
      "cell_type": "code",
      "source": [
        "raw_html = response.text\n",
        "soup = BeautifulSoup(raw_html, 'html.parser')"
      ],
      "metadata": {
        "id": "F92A3wvlyUBc"
      },
      "execution_count": 5,
      "outputs": []
    },
    {
      "cell_type": "markdown",
      "source": [
        "### Extract data from the BeautifulSoap object using any selectors, attribute identifiers, etc."
      ],
      "metadata": {
        "id": "F8hifMvVycfV"
      }
    },
    {
      "cell_type": "markdown",
      "source": [
        "* Product title (selector '.wd-entities-title')\n",
        "* Product regular price (selector '.woocommerce-Price-amount')\n",
        "* Product discount price (if available), same selector as regular price\n",
        "* URL to the product page\n",
        "* Add to cart button URL"
      ],
      "metadata": {
        "id": "sHgfHr61y2tD"
      }
    },
    {
      "cell_type": "code",
      "source": [],
      "metadata": {
        "id": "UV1kZCRyycQF"
      },
      "execution_count": null,
      "outputs": []
    },
    {
      "cell_type": "markdown",
      "source": [
        "Repeat the extraction process for each page of products"
      ],
      "metadata": {
        "id": "gToy7d5Jy9Qk"
      }
    },
    {
      "cell_type": "code",
      "source": [
        "def extraxt_products_characteristics(product):\n",
        "    name = product.select_one('.wd-entities-title').text.strip()\n",
        "    prices = product.select('.woocommerce-Price-amount')\n",
        "    regular_price = prices[0].text.strip() if prices else None\n",
        "    discount_price = prices[1].text.strip() if len(prices) > 1 else None\n",
        "    product_url = product.select_one('.wd-entities-title a')['href']\n",
        "    add_to_cart_button = product.select_one('.add_to_cart_button')['href'] if product.select_one('.add_to_cart_button') else None\n",
        "\n",
        "    product_list = {\n",
        "        'title': name,\n",
        "        'regular_price': regular_price,\n",
        "        'discount_price': discount_price,\n",
        "        'product_url': product_url,\n",
        "        'add_to_cart_button': add_to_cart_button\n",
        "    }\n",
        "\n",
        "    return product_list"
      ],
      "metadata": {
        "id": "rVdYuEv3zArs"
      },
      "execution_count": 8,
      "outputs": []
    },
    {
      "cell_type": "code",
      "source": [
        "all_products = []\n",
        "base_url = \"https://clevershop.mk/product-category/mobilni-laptopi-i-tableti/\"\n",
        "page_num = 1\n",
        "\n",
        "while True:\n",
        "    if page_num == 1:\n",
        "        url = base_url\n",
        "    else:\n",
        "        url = f\"{base_url}page/{page_num}/\"  # Поправен URL без дополнителна коса црта\n",
        "\n",
        "    response = requests.get(url)\n",
        "\n",
        "    print(f\"Обработувам страница {page_num}: {url}\")\n",
        "\n",
        "    if response.status_code != 200:\n",
        "        print(\"Не може да се пристапи до страницата:\", url)\n",
        "        break\n",
        "\n",
        "    soup = BeautifulSoup(response.text, \"html.parser\")\n",
        "    product_elements = soup.select('.product-wrapper')  # Обезбедете дека класата е точна\n",
        "\n",
        "    print(\"Наодени производи:\", len(product_elements))\n",
        "\n",
        "    if not product_elements:\n",
        "        print(\"Нема повеќе производи за процесирање.\")\n",
        "        break\n",
        "\n",
        "    for product in product_elements:\n",
        "        result = extraxt_products_characteristics(product)\n",
        "        all_products.append(result)\n",
        "\n",
        "    page_num += 1\n"
      ],
      "metadata": {
        "colab": {
          "base_uri": "https://localhost:8080/"
        },
        "id": "sUO50FfV-WpL",
        "outputId": "408464a3-66f7-4012-ae1f-5b2fa2c82326"
      },
      "execution_count": 9,
      "outputs": [
        {
          "output_type": "stream",
          "name": "stdout",
          "text": [
            "Обработувам страница 1: https://clevershop.mk/product-category/mobilni-laptopi-i-tableti/\n",
            "Наодени производи: 24\n",
            "Обработувам страница 2: https://clevershop.mk/product-category/mobilni-laptopi-i-tableti/page/2/\n",
            "Наодени производи: 24\n",
            "Обработувам страница 3: https://clevershop.mk/product-category/mobilni-laptopi-i-tableti/page/3/\n",
            "Наодени производи: 24\n",
            "Обработувам страница 4: https://clevershop.mk/product-category/mobilni-laptopi-i-tableti/page/4/\n",
            "Наодени производи: 24\n",
            "Обработувам страница 5: https://clevershop.mk/product-category/mobilni-laptopi-i-tableti/page/5/\n",
            "Наодени производи: 24\n",
            "Обработувам страница 6: https://clevershop.mk/product-category/mobilni-laptopi-i-tableti/page/6/\n",
            "Наодени производи: 24\n",
            "Обработувам страница 7: https://clevershop.mk/product-category/mobilni-laptopi-i-tableti/page/7/\n",
            "Наодени производи: 24\n",
            "Обработувам страница 8: https://clevershop.mk/product-category/mobilni-laptopi-i-tableti/page/8/\n",
            "Наодени производи: 24\n",
            "Обработувам страница 9: https://clevershop.mk/product-category/mobilni-laptopi-i-tableti/page/9/\n",
            "Наодени производи: 24\n",
            "Обработувам страница 10: https://clevershop.mk/product-category/mobilni-laptopi-i-tableti/page/10/\n",
            "Наодени производи: 24\n",
            "Обработувам страница 11: https://clevershop.mk/product-category/mobilni-laptopi-i-tableti/page/11/\n",
            "Наодени производи: 24\n",
            "Обработувам страница 12: https://clevershop.mk/product-category/mobilni-laptopi-i-tableti/page/12/\n",
            "Наодени производи: 24\n",
            "Обработувам страница 13: https://clevershop.mk/product-category/mobilni-laptopi-i-tableti/page/13/\n",
            "Наодени производи: 24\n",
            "Обработувам страница 14: https://clevershop.mk/product-category/mobilni-laptopi-i-tableti/page/14/\n",
            "Наодени производи: 8\n",
            "Обработувам страница 15: https://clevershop.mk/product-category/mobilni-laptopi-i-tableti/page/15/\n",
            "Не може да се пристапи до страницата: https://clevershop.mk/product-category/mobilni-laptopi-i-tableti/page/15/\n"
          ]
        }
      ]
    },
    {
      "cell_type": "markdown",
      "source": [
        "### Create a pandas DataFrame with the scraped products"
      ],
      "metadata": {
        "id": "R4OIUt0AynuU"
      }
    },
    {
      "cell_type": "code",
      "source": [
        "all_products_dataFrame = pd.DataFrame(all_products)\n",
        "all_products_dataFrame"
      ],
      "metadata": {
        "id": "-wCzGEj8yrKU",
        "colab": {
          "base_uri": "https://localhost:8080/",
          "height": 423
        },
        "outputId": "545a8a52-6902-45c0-90ff-182da6ea7114"
      },
      "execution_count": 13,
      "outputs": [
        {
          "output_type": "execute_result",
          "data": {
            "text/plain": [
              "                                                 title regular_price  \\\n",
              "0                                    Acer A315-23-A7KD    17.590 ден   \n",
              "1                                    Acer A315-23-R5P2    27.490 ден   \n",
              "2                                ACER Aspire 1 A115-22    18.999 ден   \n",
              "3                           Acer Aspire 3 A315-23-R26A    29.990 ден   \n",
              "4                           Acer Aspire 3 A315-58-33WK    24.490 ден   \n",
              "..                                                 ...           ...   \n",
              "315        Monitor 27 Philips 272E1GAJ/00 VA 1ms 144Hz    12.890 ден   \n",
              "316                              Philips 24″ 243V7QDSB     8.390 ден   \n",
              "317                   Philips 27″ 278E1A/00 4K UHD IPS    18.990 ден   \n",
              "318  Philips 279C9-00 MON LED 27″ 3840 x 2160 5Ms 6...    26.990 ден   \n",
              "319                      Xiaomi Redmi AirDots Wireless       990 ден   \n",
              "\n",
              "    discount_price                                        product_url  \\\n",
              "0             None   https://clevershop.mk/product/acer-a315-23-a7kd/   \n",
              "1             None   https://clevershop.mk/product/acer-a315-23-r5p2/   \n",
              "2       15.999 ден  https://clevershop.mk/product/acer-aspire-1-nx...   \n",
              "3             None  https://clevershop.mk/product/acer-aspire-3-a3...   \n",
              "4             None               https://clevershop.mk/product/21498/   \n",
              "..             ...                                                ...   \n",
              "315           None  https://clevershop.mk/product/monitor-27-phili...   \n",
              "316           None  https://clevershop.mk/product/philips-24%e2%80...   \n",
              "317           None  https://clevershop.mk/product/hp-27%e2%80%b3-2...   \n",
              "318           None  https://clevershop.mk/product/philips-279c9-00...   \n",
              "319           None    https://clevershop.mk/product/redmi-headphones/   \n",
              "\n",
              "     add_to_cart_button  \n",
              "0    ?add-to-cart=21494  \n",
              "1    ?add-to-cart=21510  \n",
              "2    ?add-to-cart=20826  \n",
              "3    ?add-to-cart=21516  \n",
              "4    ?add-to-cart=21498  \n",
              "..                  ...  \n",
              "315  ?add-to-cart=12618  \n",
              "316  ?add-to-cart=12396  \n",
              "317  ?add-to-cart=12218  \n",
              "318  ?add-to-cart=12578  \n",
              "319  ?add-to-cart=10663  \n",
              "\n",
              "[320 rows x 5 columns]"
            ],
            "text/html": [
              "\n",
              "  <div id=\"df-12ef9956-afb7-45fb-893f-7d2a2fc3065a\" class=\"colab-df-container\">\n",
              "    <div>\n",
              "<style scoped>\n",
              "    .dataframe tbody tr th:only-of-type {\n",
              "        vertical-align: middle;\n",
              "    }\n",
              "\n",
              "    .dataframe tbody tr th {\n",
              "        vertical-align: top;\n",
              "    }\n",
              "\n",
              "    .dataframe thead th {\n",
              "        text-align: right;\n",
              "    }\n",
              "</style>\n",
              "<table border=\"1\" class=\"dataframe\">\n",
              "  <thead>\n",
              "    <tr style=\"text-align: right;\">\n",
              "      <th></th>\n",
              "      <th>title</th>\n",
              "      <th>regular_price</th>\n",
              "      <th>discount_price</th>\n",
              "      <th>product_url</th>\n",
              "      <th>add_to_cart_button</th>\n",
              "    </tr>\n",
              "  </thead>\n",
              "  <tbody>\n",
              "    <tr>\n",
              "      <th>0</th>\n",
              "      <td>Acer A315-23-A7KD</td>\n",
              "      <td>17.590 ден</td>\n",
              "      <td>None</td>\n",
              "      <td>https://clevershop.mk/product/acer-a315-23-a7kd/</td>\n",
              "      <td>?add-to-cart=21494</td>\n",
              "    </tr>\n",
              "    <tr>\n",
              "      <th>1</th>\n",
              "      <td>Acer A315-23-R5P2</td>\n",
              "      <td>27.490 ден</td>\n",
              "      <td>None</td>\n",
              "      <td>https://clevershop.mk/product/acer-a315-23-r5p2/</td>\n",
              "      <td>?add-to-cart=21510</td>\n",
              "    </tr>\n",
              "    <tr>\n",
              "      <th>2</th>\n",
              "      <td>ACER Aspire 1 A115-22</td>\n",
              "      <td>18.999 ден</td>\n",
              "      <td>15.999 ден</td>\n",
              "      <td>https://clevershop.mk/product/acer-aspire-1-nx...</td>\n",
              "      <td>?add-to-cart=20826</td>\n",
              "    </tr>\n",
              "    <tr>\n",
              "      <th>3</th>\n",
              "      <td>Acer Aspire 3 A315-23-R26A</td>\n",
              "      <td>29.990 ден</td>\n",
              "      <td>None</td>\n",
              "      <td>https://clevershop.mk/product/acer-aspire-3-a3...</td>\n",
              "      <td>?add-to-cart=21516</td>\n",
              "    </tr>\n",
              "    <tr>\n",
              "      <th>4</th>\n",
              "      <td>Acer Aspire 3 A315-58-33WK</td>\n",
              "      <td>24.490 ден</td>\n",
              "      <td>None</td>\n",
              "      <td>https://clevershop.mk/product/21498/</td>\n",
              "      <td>?add-to-cart=21498</td>\n",
              "    </tr>\n",
              "    <tr>\n",
              "      <th>...</th>\n",
              "      <td>...</td>\n",
              "      <td>...</td>\n",
              "      <td>...</td>\n",
              "      <td>...</td>\n",
              "      <td>...</td>\n",
              "    </tr>\n",
              "    <tr>\n",
              "      <th>315</th>\n",
              "      <td>Monitor 27 Philips 272E1GAJ/00 VA 1ms 144Hz</td>\n",
              "      <td>12.890 ден</td>\n",
              "      <td>None</td>\n",
              "      <td>https://clevershop.mk/product/monitor-27-phili...</td>\n",
              "      <td>?add-to-cart=12618</td>\n",
              "    </tr>\n",
              "    <tr>\n",
              "      <th>316</th>\n",
              "      <td>Philips 24″ 243V7QDSB</td>\n",
              "      <td>8.390 ден</td>\n",
              "      <td>None</td>\n",
              "      <td>https://clevershop.mk/product/philips-24%e2%80...</td>\n",
              "      <td>?add-to-cart=12396</td>\n",
              "    </tr>\n",
              "    <tr>\n",
              "      <th>317</th>\n",
              "      <td>Philips 27″ 278E1A/00 4K UHD IPS</td>\n",
              "      <td>18.990 ден</td>\n",
              "      <td>None</td>\n",
              "      <td>https://clevershop.mk/product/hp-27%e2%80%b3-2...</td>\n",
              "      <td>?add-to-cart=12218</td>\n",
              "    </tr>\n",
              "    <tr>\n",
              "      <th>318</th>\n",
              "      <td>Philips 279C9-00 MON LED 27″ 3840 x 2160 5Ms 6...</td>\n",
              "      <td>26.990 ден</td>\n",
              "      <td>None</td>\n",
              "      <td>https://clevershop.mk/product/philips-279c9-00...</td>\n",
              "      <td>?add-to-cart=12578</td>\n",
              "    </tr>\n",
              "    <tr>\n",
              "      <th>319</th>\n",
              "      <td>Xiaomi Redmi AirDots Wireless</td>\n",
              "      <td>990 ден</td>\n",
              "      <td>None</td>\n",
              "      <td>https://clevershop.mk/product/redmi-headphones/</td>\n",
              "      <td>?add-to-cart=10663</td>\n",
              "    </tr>\n",
              "  </tbody>\n",
              "</table>\n",
              "<p>320 rows × 5 columns</p>\n",
              "</div>\n",
              "    <div class=\"colab-df-buttons\">\n",
              "\n",
              "  <div class=\"colab-df-container\">\n",
              "    <button class=\"colab-df-convert\" onclick=\"convertToInteractive('df-12ef9956-afb7-45fb-893f-7d2a2fc3065a')\"\n",
              "            title=\"Convert this dataframe to an interactive table.\"\n",
              "            style=\"display:none;\">\n",
              "\n",
              "  <svg xmlns=\"http://www.w3.org/2000/svg\" height=\"24px\" viewBox=\"0 -960 960 960\">\n",
              "    <path d=\"M120-120v-720h720v720H120Zm60-500h600v-160H180v160Zm220 220h160v-160H400v160Zm0 220h160v-160H400v160ZM180-400h160v-160H180v160Zm440 0h160v-160H620v160ZM180-180h160v-160H180v160Zm440 0h160v-160H620v160Z\"/>\n",
              "  </svg>\n",
              "    </button>\n",
              "\n",
              "  <style>\n",
              "    .colab-df-container {\n",
              "      display:flex;\n",
              "      gap: 12px;\n",
              "    }\n",
              "\n",
              "    .colab-df-convert {\n",
              "      background-color: #E8F0FE;\n",
              "      border: none;\n",
              "      border-radius: 50%;\n",
              "      cursor: pointer;\n",
              "      display: none;\n",
              "      fill: #1967D2;\n",
              "      height: 32px;\n",
              "      padding: 0 0 0 0;\n",
              "      width: 32px;\n",
              "    }\n",
              "\n",
              "    .colab-df-convert:hover {\n",
              "      background-color: #E2EBFA;\n",
              "      box-shadow: 0px 1px 2px rgba(60, 64, 67, 0.3), 0px 1px 3px 1px rgba(60, 64, 67, 0.15);\n",
              "      fill: #174EA6;\n",
              "    }\n",
              "\n",
              "    .colab-df-buttons div {\n",
              "      margin-bottom: 4px;\n",
              "    }\n",
              "\n",
              "    [theme=dark] .colab-df-convert {\n",
              "      background-color: #3B4455;\n",
              "      fill: #D2E3FC;\n",
              "    }\n",
              "\n",
              "    [theme=dark] .colab-df-convert:hover {\n",
              "      background-color: #434B5C;\n",
              "      box-shadow: 0px 1px 3px 1px rgba(0, 0, 0, 0.15);\n",
              "      filter: drop-shadow(0px 1px 2px rgba(0, 0, 0, 0.3));\n",
              "      fill: #FFFFFF;\n",
              "    }\n",
              "  </style>\n",
              "\n",
              "    <script>\n",
              "      const buttonEl =\n",
              "        document.querySelector('#df-12ef9956-afb7-45fb-893f-7d2a2fc3065a button.colab-df-convert');\n",
              "      buttonEl.style.display =\n",
              "        google.colab.kernel.accessAllowed ? 'block' : 'none';\n",
              "\n",
              "      async function convertToInteractive(key) {\n",
              "        const element = document.querySelector('#df-12ef9956-afb7-45fb-893f-7d2a2fc3065a');\n",
              "        const dataTable =\n",
              "          await google.colab.kernel.invokeFunction('convertToInteractive',\n",
              "                                                    [key], {});\n",
              "        if (!dataTable) return;\n",
              "\n",
              "        const docLinkHtml = 'Like what you see? Visit the ' +\n",
              "          '<a target=\"_blank\" href=https://colab.research.google.com/notebooks/data_table.ipynb>data table notebook</a>'\n",
              "          + ' to learn more about interactive tables.';\n",
              "        element.innerHTML = '';\n",
              "        dataTable['output_type'] = 'display_data';\n",
              "        await google.colab.output.renderOutput(dataTable, element);\n",
              "        const docLink = document.createElement('div');\n",
              "        docLink.innerHTML = docLinkHtml;\n",
              "        element.appendChild(docLink);\n",
              "      }\n",
              "    </script>\n",
              "  </div>\n",
              "\n",
              "\n",
              "<div id=\"df-a86a5a11-2e46-4d48-8b7e-5109106ff068\">\n",
              "  <button class=\"colab-df-quickchart\" onclick=\"quickchart('df-a86a5a11-2e46-4d48-8b7e-5109106ff068')\"\n",
              "            title=\"Suggest charts\"\n",
              "            style=\"display:none;\">\n",
              "\n",
              "<svg xmlns=\"http://www.w3.org/2000/svg\" height=\"24px\"viewBox=\"0 0 24 24\"\n",
              "     width=\"24px\">\n",
              "    <g>\n",
              "        <path d=\"M19 3H5c-1.1 0-2 .9-2 2v14c0 1.1.9 2 2 2h14c1.1 0 2-.9 2-2V5c0-1.1-.9-2-2-2zM9 17H7v-7h2v7zm4 0h-2V7h2v10zm4 0h-2v-4h2v4z\"/>\n",
              "    </g>\n",
              "</svg>\n",
              "  </button>\n",
              "\n",
              "<style>\n",
              "  .colab-df-quickchart {\n",
              "      --bg-color: #E8F0FE;\n",
              "      --fill-color: #1967D2;\n",
              "      --hover-bg-color: #E2EBFA;\n",
              "      --hover-fill-color: #174EA6;\n",
              "      --disabled-fill-color: #AAA;\n",
              "      --disabled-bg-color: #DDD;\n",
              "  }\n",
              "\n",
              "  [theme=dark] .colab-df-quickchart {\n",
              "      --bg-color: #3B4455;\n",
              "      --fill-color: #D2E3FC;\n",
              "      --hover-bg-color: #434B5C;\n",
              "      --hover-fill-color: #FFFFFF;\n",
              "      --disabled-bg-color: #3B4455;\n",
              "      --disabled-fill-color: #666;\n",
              "  }\n",
              "\n",
              "  .colab-df-quickchart {\n",
              "    background-color: var(--bg-color);\n",
              "    border: none;\n",
              "    border-radius: 50%;\n",
              "    cursor: pointer;\n",
              "    display: none;\n",
              "    fill: var(--fill-color);\n",
              "    height: 32px;\n",
              "    padding: 0;\n",
              "    width: 32px;\n",
              "  }\n",
              "\n",
              "  .colab-df-quickchart:hover {\n",
              "    background-color: var(--hover-bg-color);\n",
              "    box-shadow: 0 1px 2px rgba(60, 64, 67, 0.3), 0 1px 3px 1px rgba(60, 64, 67, 0.15);\n",
              "    fill: var(--button-hover-fill-color);\n",
              "  }\n",
              "\n",
              "  .colab-df-quickchart-complete:disabled,\n",
              "  .colab-df-quickchart-complete:disabled:hover {\n",
              "    background-color: var(--disabled-bg-color);\n",
              "    fill: var(--disabled-fill-color);\n",
              "    box-shadow: none;\n",
              "  }\n",
              "\n",
              "  .colab-df-spinner {\n",
              "    border: 2px solid var(--fill-color);\n",
              "    border-color: transparent;\n",
              "    border-bottom-color: var(--fill-color);\n",
              "    animation:\n",
              "      spin 1s steps(1) infinite;\n",
              "  }\n",
              "\n",
              "  @keyframes spin {\n",
              "    0% {\n",
              "      border-color: transparent;\n",
              "      border-bottom-color: var(--fill-color);\n",
              "      border-left-color: var(--fill-color);\n",
              "    }\n",
              "    20% {\n",
              "      border-color: transparent;\n",
              "      border-left-color: var(--fill-color);\n",
              "      border-top-color: var(--fill-color);\n",
              "    }\n",
              "    30% {\n",
              "      border-color: transparent;\n",
              "      border-left-color: var(--fill-color);\n",
              "      border-top-color: var(--fill-color);\n",
              "      border-right-color: var(--fill-color);\n",
              "    }\n",
              "    40% {\n",
              "      border-color: transparent;\n",
              "      border-right-color: var(--fill-color);\n",
              "      border-top-color: var(--fill-color);\n",
              "    }\n",
              "    60% {\n",
              "      border-color: transparent;\n",
              "      border-right-color: var(--fill-color);\n",
              "    }\n",
              "    80% {\n",
              "      border-color: transparent;\n",
              "      border-right-color: var(--fill-color);\n",
              "      border-bottom-color: var(--fill-color);\n",
              "    }\n",
              "    90% {\n",
              "      border-color: transparent;\n",
              "      border-bottom-color: var(--fill-color);\n",
              "    }\n",
              "  }\n",
              "</style>\n",
              "\n",
              "  <script>\n",
              "    async function quickchart(key) {\n",
              "      const quickchartButtonEl =\n",
              "        document.querySelector('#' + key + ' button');\n",
              "      quickchartButtonEl.disabled = true;  // To prevent multiple clicks.\n",
              "      quickchartButtonEl.classList.add('colab-df-spinner');\n",
              "      try {\n",
              "        const charts = await google.colab.kernel.invokeFunction(\n",
              "            'suggestCharts', [key], {});\n",
              "      } catch (error) {\n",
              "        console.error('Error during call to suggestCharts:', error);\n",
              "      }\n",
              "      quickchartButtonEl.classList.remove('colab-df-spinner');\n",
              "      quickchartButtonEl.classList.add('colab-df-quickchart-complete');\n",
              "    }\n",
              "    (() => {\n",
              "      let quickchartButtonEl =\n",
              "        document.querySelector('#df-a86a5a11-2e46-4d48-8b7e-5109106ff068 button');\n",
              "      quickchartButtonEl.style.display =\n",
              "        google.colab.kernel.accessAllowed ? 'block' : 'none';\n",
              "    })();\n",
              "  </script>\n",
              "</div>\n",
              "    </div>\n",
              "  </div>\n"
            ],
            "application/vnd.google.colaboratory.intrinsic+json": {
              "type": "dataframe",
              "variable_name": "all_products_dataFrame",
              "summary": "{\n  \"name\": \"all_products_dataFrame\",\n  \"rows\": 320,\n  \"fields\": [\n    {\n      \"column\": \"title\",\n      \"properties\": {\n        \"dtype\": \"string\",\n        \"num_unique_values\": 315,\n        \"samples\": [\n          \"Samsung Galaxy A22 5G 64GB 4GB RAM\",\n          \"Acer Predator Helios 300 PH315-54-949Y\",\n          \"Lenovo 100e Windows 2nd Gen 81M80035US 11.6\\u2033 Netbook\"\n        ],\n        \"semantic_type\": \"\",\n        \"description\": \"\"\n      }\n    },\n    {\n      \"column\": \"regular_price\",\n      \"properties\": {\n        \"dtype\": \"string\",\n        \"num_unique_values\": 183,\n        \"samples\": [\n          \"47.990\\u00a0\\u0434\\u0435\\u043d\",\n          \"38.990\\u00a0\\u0434\\u0435\\u043d\",\n          \"61.990\\u00a0\\u0434\\u0435\\u043d\"\n        ],\n        \"semantic_type\": \"\",\n        \"description\": \"\"\n      }\n    },\n    {\n      \"column\": \"discount_price\",\n      \"properties\": {\n        \"dtype\": \"category\",\n        \"num_unique_values\": 39,\n        \"samples\": [\n          \"12.990\\u00a0\\u0434\\u0435\\u043d\",\n          \"10.990\\u00a0\\u0434\\u0435\\u043d\",\n          \"45.990\\u00a0\\u0434\\u0435\\u043d\"\n        ],\n        \"semantic_type\": \"\",\n        \"description\": \"\"\n      }\n    },\n    {\n      \"column\": \"product_url\",\n      \"properties\": {\n        \"dtype\": \"string\",\n        \"num_unique_values\": 320,\n        \"samples\": [\n          \"https://clevershop.mk/product/lenovo-14w-gen-2/\",\n          \"https://clevershop.mk/product/samsung-galaxy-s21-ultra-5g-256gb-12gb-ram/\",\n          \"https://clevershop.mk/product/acer-nitro-5-gaming-an517-41/\"\n        ],\n        \"semantic_type\": \"\",\n        \"description\": \"\"\n      }\n    },\n    {\n      \"column\": \"add_to_cart_button\",\n      \"properties\": {\n        \"dtype\": \"string\",\n        \"num_unique_values\": 320,\n        \"samples\": [\n          \"?add-to-cart=20954\",\n          \"?add-to-cart=20036\",\n          \"?add-to-cart=21316\"\n        ],\n        \"semantic_type\": \"\",\n        \"description\": \"\"\n      }\n    }\n  ]\n}"
            }
          },
          "metadata": {},
          "execution_count": 13
        }
      ]
    },
    {
      "cell_type": "markdown",
      "source": [
        "Save the dataframe as `.csv`"
      ],
      "metadata": {
        "id": "Rxbi54EOyrb8"
      }
    },
    {
      "cell_type": "code",
      "source": [
        "all_products_dataFrame.to_csv('mobilni-laptopi-i-tableti.csv', index = False)"
      ],
      "metadata": {
        "id": "TLNfZQ07yuQE"
      },
      "execution_count": 14,
      "outputs": []
    }
  ]
}